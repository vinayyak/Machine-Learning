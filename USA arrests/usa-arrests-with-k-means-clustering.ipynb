{
 "cells": [
  {
   "cell_type": "raw",
   "id": "a3a92af5",
   "metadata": {},
   "source": [
    "#Step 1: The number of clusters is determined.\n",
    "\n",
    "#Step 2: Random k centers are selected.\n",
    "\n",
    "#Step 3: Distances to k centers are calculated for each observation.\n",
    "\n",
    "#Step 4: Each observation is assigned to the closest center, namely the cluster.\n",
    "\n",
    "#Step 5: For the clusters formed after the assignment operations, center calculations are made again.\n",
    "\n",
    "#Step 6: This process is repeated for a determined number of iterations and the cluster structure of the observations in which the total within-cluster variation is minimum is selected as the final clustering."
   ]
  },
  {
   "cell_type": "markdown",
   "id": "994b3dcb",
   "metadata": {},
   "source": [
    "# Importing"
   ]
  },
  {
   "cell_type": "code",
   "execution_count": 37,
   "id": "b8e8b81d",
   "metadata": {},
   "outputs": [
    {
     "data": {
      "text/plain": [
       "'C:\\\\Users\\\\vinay\\\\Desktop\\\\USA arrests'"
      ]
     },
     "execution_count": 37,
     "metadata": {},
     "output_type": "execute_result"
    }
   ],
   "source": [
    "import os\n",
    "os.getcwd()"
   ]
  },
  {
   "cell_type": "code",
   "execution_count": 38,
   "id": "21a8794d",
   "metadata": {
    "execution": {
     "iopub.execute_input": "2021-10-30T10:37:43.251092Z",
     "iopub.status.busy": "2021-10-30T10:37:43.249364Z",
     "iopub.status.idle": "2021-10-30T10:37:44.719051Z",
     "shell.execute_reply": "2021-10-30T10:37:44.718139Z",
     "shell.execute_reply.started": "2021-10-29T15:17:43.925247Z"
    },
    "papermill": {
     "duration": 1.493354,
     "end_time": "2021-10-30T10:37:44.719240",
     "exception": false,
     "start_time": "2021-10-30T10:37:43.225886",
     "status": "completed"
    },
    "tags": []
   },
   "outputs": [],
   "source": [
    "import numpy as np\n",
    "import pandas as pd\n",
    "import matplotlib.pyplot as plt\n",
    "from sklearn.cluster import KMeans\n",
    "from sklearn.preprocessing import MinMaxScaler\n",
    "from yellowbrick.cluster import KElbowVisualizer\n",
    "from scipy.cluster.hierarchy import linkage\n",
    "from scipy.cluster.hierarchy import dendrogram\n",
    "from sklearn.preprocessing import StandardScaler\n",
    "from sklearn.decomposition import PCA\n",
    "from sklearn.model_selection import cross_val_score, GridSearchCV\n",
    "from sklearn.preprocessing import LabelEncoder"
   ]
  },
  {
   "cell_type": "code",
   "execution_count": 39,
   "id": "ff9a1a99",
   "metadata": {
    "execution": {
     "iopub.execute_input": "2021-10-30T10:37:44.763278Z",
     "iopub.status.busy": "2021-10-30T10:37:44.762549Z",
     "iopub.status.idle": "2021-10-30T10:37:44.797857Z",
     "shell.execute_reply": "2021-10-30T10:37:44.798327Z",
     "shell.execute_reply.started": "2021-10-29T15:17:43.933647Z"
    },
    "papermill": {
     "duration": 0.059715,
     "end_time": "2021-10-30T10:37:44.798504",
     "exception": false,
     "start_time": "2021-10-30T10:37:44.738789",
     "status": "completed"
    },
    "tags": []
   },
   "outputs": [
    {
     "data": {
      "text/html": [
       "<div>\n",
       "<style scoped>\n",
       "    .dataframe tbody tr th:only-of-type {\n",
       "        vertical-align: middle;\n",
       "    }\n",
       "\n",
       "    .dataframe tbody tr th {\n",
       "        vertical-align: top;\n",
       "    }\n",
       "\n",
       "    .dataframe thead th {\n",
       "        text-align: right;\n",
       "    }\n",
       "</style>\n",
       "<table border=\"1\" class=\"dataframe\">\n",
       "  <thead>\n",
       "    <tr style=\"text-align: right;\">\n",
       "      <th></th>\n",
       "      <th>Murder</th>\n",
       "      <th>Assault</th>\n",
       "      <th>UrbanPop</th>\n",
       "      <th>Rape</th>\n",
       "    </tr>\n",
       "  </thead>\n",
       "  <tbody>\n",
       "    <tr>\n",
       "      <th>Alabama</th>\n",
       "      <td>13.2</td>\n",
       "      <td>236</td>\n",
       "      <td>58</td>\n",
       "      <td>21.2</td>\n",
       "    </tr>\n",
       "    <tr>\n",
       "      <th>Alaska</th>\n",
       "      <td>10.0</td>\n",
       "      <td>263</td>\n",
       "      <td>48</td>\n",
       "      <td>44.5</td>\n",
       "    </tr>\n",
       "    <tr>\n",
       "      <th>Arizona</th>\n",
       "      <td>8.1</td>\n",
       "      <td>294</td>\n",
       "      <td>80</td>\n",
       "      <td>31.0</td>\n",
       "    </tr>\n",
       "    <tr>\n",
       "      <th>Arkansas</th>\n",
       "      <td>8.8</td>\n",
       "      <td>190</td>\n",
       "      <td>50</td>\n",
       "      <td>19.5</td>\n",
       "    </tr>\n",
       "    <tr>\n",
       "      <th>California</th>\n",
       "      <td>9.0</td>\n",
       "      <td>276</td>\n",
       "      <td>91</td>\n",
       "      <td>40.6</td>\n",
       "    </tr>\n",
       "  </tbody>\n",
       "</table>\n",
       "</div>"
      ],
      "text/plain": [
       "            Murder  Assault  UrbanPop  Rape\n",
       "Alabama       13.2      236        58  21.2\n",
       "Alaska        10.0      263        48  44.5\n",
       "Arizona        8.1      294        80  31.0\n",
       "Arkansas       8.8      190        50  19.5\n",
       "California     9.0      276        91  40.6"
      ]
     },
     "execution_count": 39,
     "metadata": {},
     "output_type": "execute_result"
    }
   ],
   "source": [
    "#importing dataset\n",
    "df = pd.read_csv(\"USArrests.csv\", index_col=0)\n",
    "df.head()"
   ]
  },
  {
   "cell_type": "code",
   "execution_count": 40,
   "id": "efe5b205",
   "metadata": {
    "execution": {
     "iopub.execute_input": "2021-10-30T10:37:44.880501Z",
     "iopub.status.busy": "2021-10-30T10:37:44.879590Z",
     "iopub.status.idle": "2021-10-30T10:37:44.886636Z",
     "shell.execute_reply": "2021-10-30T10:37:44.887109Z",
     "shell.execute_reply.started": "2021-10-29T15:17:43.96482Z"
    },
    "papermill": {
     "duration": 0.030583,
     "end_time": "2021-10-30T10:37:44.887289",
     "exception": false,
     "start_time": "2021-10-30T10:37:44.856706",
     "status": "completed"
    },
    "tags": []
   },
   "outputs": [
    {
     "data": {
      "text/plain": [
       "Murder      0\n",
       "Assault     0\n",
       "UrbanPop    0\n",
       "Rape        0\n",
       "dtype: int64"
      ]
     },
     "execution_count": 40,
     "metadata": {},
     "output_type": "execute_result"
    }
   ],
   "source": [
    "#looking for missing observations\n",
    "df.isnull().sum()"
   ]
  },
  {
   "cell_type": "code",
   "execution_count": 41,
   "id": "6c5d3cb9",
   "metadata": {
    "execution": {
     "iopub.execute_input": "2021-10-30T10:37:44.929871Z",
     "iopub.status.busy": "2021-10-30T10:37:44.929186Z",
     "iopub.status.idle": "2021-10-30T10:37:44.957950Z",
     "shell.execute_reply": "2021-10-30T10:37:44.958434Z",
     "shell.execute_reply.started": "2021-10-29T15:17:43.976296Z"
    },
    "papermill": {
     "duration": 0.052018,
     "end_time": "2021-10-30T10:37:44.958613",
     "exception": false,
     "start_time": "2021-10-30T10:37:44.906595",
     "status": "completed"
    },
    "tags": []
   },
   "outputs": [
    {
     "data": {
      "text/html": [
       "<div>\n",
       "<style scoped>\n",
       "    .dataframe tbody tr th:only-of-type {\n",
       "        vertical-align: middle;\n",
       "    }\n",
       "\n",
       "    .dataframe tbody tr th {\n",
       "        vertical-align: top;\n",
       "    }\n",
       "\n",
       "    .dataframe thead th {\n",
       "        text-align: right;\n",
       "    }\n",
       "</style>\n",
       "<table border=\"1\" class=\"dataframe\">\n",
       "  <thead>\n",
       "    <tr style=\"text-align: right;\">\n",
       "      <th></th>\n",
       "      <th>count</th>\n",
       "      <th>mean</th>\n",
       "      <th>std</th>\n",
       "      <th>min</th>\n",
       "      <th>25%</th>\n",
       "      <th>50%</th>\n",
       "      <th>75%</th>\n",
       "      <th>max</th>\n",
       "    </tr>\n",
       "  </thead>\n",
       "  <tbody>\n",
       "    <tr>\n",
       "      <th>Murder</th>\n",
       "      <td>50.0</td>\n",
       "      <td>7.788</td>\n",
       "      <td>4.355510</td>\n",
       "      <td>0.8</td>\n",
       "      <td>4.075</td>\n",
       "      <td>7.25</td>\n",
       "      <td>11.250</td>\n",
       "      <td>17.4</td>\n",
       "    </tr>\n",
       "    <tr>\n",
       "      <th>Assault</th>\n",
       "      <td>50.0</td>\n",
       "      <td>170.760</td>\n",
       "      <td>83.337661</td>\n",
       "      <td>45.0</td>\n",
       "      <td>109.000</td>\n",
       "      <td>159.00</td>\n",
       "      <td>249.000</td>\n",
       "      <td>337.0</td>\n",
       "    </tr>\n",
       "    <tr>\n",
       "      <th>UrbanPop</th>\n",
       "      <td>50.0</td>\n",
       "      <td>65.540</td>\n",
       "      <td>14.474763</td>\n",
       "      <td>32.0</td>\n",
       "      <td>54.500</td>\n",
       "      <td>66.00</td>\n",
       "      <td>77.750</td>\n",
       "      <td>91.0</td>\n",
       "    </tr>\n",
       "    <tr>\n",
       "      <th>Rape</th>\n",
       "      <td>50.0</td>\n",
       "      <td>21.232</td>\n",
       "      <td>9.366385</td>\n",
       "      <td>7.3</td>\n",
       "      <td>15.075</td>\n",
       "      <td>20.10</td>\n",
       "      <td>26.175</td>\n",
       "      <td>46.0</td>\n",
       "    </tr>\n",
       "  </tbody>\n",
       "</table>\n",
       "</div>"
      ],
      "text/plain": [
       "          count     mean        std   min      25%     50%      75%    max\n",
       "Murder     50.0    7.788   4.355510   0.8    4.075    7.25   11.250   17.4\n",
       "Assault    50.0  170.760  83.337661  45.0  109.000  159.00  249.000  337.0\n",
       "UrbanPop   50.0   65.540  14.474763  32.0   54.500   66.00   77.750   91.0\n",
       "Rape       50.0   21.232   9.366385   7.3   15.075   20.10   26.175   46.0"
      ]
     },
     "execution_count": 41,
     "metadata": {},
     "output_type": "execute_result"
    }
   ],
   "source": [
    "df.describe().T"
   ]
  },
  {
   "cell_type": "code",
   "execution_count": 42,
   "id": "d15ae542",
   "metadata": {
    "execution": {
     "iopub.execute_input": "2021-10-30T10:37:45.000928Z",
     "iopub.status.busy": "2021-10-30T10:37:45.000311Z",
     "iopub.status.idle": "2021-10-30T10:37:45.008070Z",
     "shell.execute_reply": "2021-10-30T10:37:45.008695Z",
     "shell.execute_reply.started": "2021-10-29T15:17:44.015394Z"
    },
    "papermill": {
     "duration": 0.030907,
     "end_time": "2021-10-30T10:37:45.008923",
     "exception": false,
     "start_time": "2021-10-30T10:37:44.978016",
     "status": "completed"
    },
    "tags": []
   },
   "outputs": [],
   "source": [
    "#scale\n",
    "sc = MinMaxScaler((0, 1))\n",
    "df = sc.fit_transform(df)"
   ]
  },
  {
   "cell_type": "code",
   "execution_count": 43,
   "id": "44e05cdb",
   "metadata": {
    "execution": {
     "iopub.execute_input": "2021-10-30T10:37:45.054934Z",
     "iopub.status.busy": "2021-10-30T10:37:45.051913Z",
     "iopub.status.idle": "2021-10-30T10:37:45.058532Z",
     "shell.execute_reply": "2021-10-30T10:37:45.058059Z",
     "shell.execute_reply.started": "2021-10-29T15:17:44.025028Z"
    },
    "papermill": {
     "duration": 0.029411,
     "end_time": "2021-10-30T10:37:45.058672",
     "exception": false,
     "start_time": "2021-10-30T10:37:45.029261",
     "status": "completed"
    },
    "tags": []
   },
   "outputs": [
    {
     "data": {
      "text/plain": [
       "array([[0.74698795, 0.65410959, 0.44067797, 0.35917313],\n",
       "       [0.55421687, 0.74657534, 0.27118644, 0.96124031],\n",
       "       [0.43975904, 0.85273973, 0.81355932, 0.6124031 ],\n",
       "       [0.48192771, 0.49657534, 0.30508475, 0.31524548],\n",
       "       [0.4939759 , 0.79109589, 1.        , 0.86046512]])"
      ]
     },
     "execution_count": 43,
     "metadata": {},
     "output_type": "execute_result"
    }
   ],
   "source": [
    "df[0:5]"
   ]
  },
  {
   "cell_type": "code",
   "execution_count": 44,
   "id": "d5761a92",
   "metadata": {
    "execution": {
     "iopub.execute_input": "2021-10-30T10:37:45.104451Z",
     "iopub.status.busy": "2021-10-30T10:37:45.103778Z",
     "iopub.status.idle": "2021-10-30T10:37:45.140046Z",
     "shell.execute_reply": "2021-10-30T10:37:45.139493Z",
     "shell.execute_reply.started": "2021-10-29T15:17:44.040079Z"
    },
    "papermill": {
     "duration": 0.06124,
     "end_time": "2021-10-30T10:37:45.140182",
     "exception": false,
     "start_time": "2021-10-30T10:37:45.078942",
     "status": "completed"
    },
    "tags": []
   },
   "outputs": [],
   "source": [
    "#clustering \n",
    "kmeans = KMeans(n_clusters=4)\n",
    "k_fit = kmeans.fit(df)"
   ]
  },
  {
   "cell_type": "code",
   "execution_count": 45,
   "id": "9e40b3a4",
   "metadata": {
    "execution": {
     "iopub.execute_input": "2021-10-30T10:37:45.185149Z",
     "iopub.status.busy": "2021-10-30T10:37:45.184504Z",
     "iopub.status.idle": "2021-10-30T10:37:45.188363Z",
     "shell.execute_reply": "2021-10-30T10:37:45.187912Z",
     "shell.execute_reply.started": "2021-10-29T15:17:44.087641Z"
    },
    "papermill": {
     "duration": 0.028697,
     "end_time": "2021-10-30T10:37:45.188485",
     "exception": false,
     "start_time": "2021-10-30T10:37:45.159788",
     "status": "completed"
    },
    "tags": []
   },
   "outputs": [
    {
     "data": {
      "text/plain": [
       "4"
      ]
     },
     "execution_count": 45,
     "metadata": {},
     "output_type": "execute_result"
    }
   ],
   "source": [
    "#how many sets are there\n",
    "k_fit.n_clusters"
   ]
  },
  {
   "cell_type": "code",
   "execution_count": 46,
   "id": "f55fa1e3",
   "metadata": {
    "execution": {
     "iopub.execute_input": "2021-10-30T10:37:45.236092Z",
     "iopub.status.busy": "2021-10-30T10:37:45.233209Z",
     "iopub.status.idle": "2021-10-30T10:37:45.239533Z",
     "shell.execute_reply": "2021-10-30T10:37:45.239994Z",
     "shell.execute_reply.started": "2021-10-29T15:17:44.09512Z"
    },
    "papermill": {
     "duration": 0.030724,
     "end_time": "2021-10-30T10:37:45.240159",
     "exception": false,
     "start_time": "2021-10-30T10:37:45.209435",
     "status": "completed"
    },
    "tags": []
   },
   "outputs": [
    {
     "data": {
      "text/plain": [
       "array([[0.60333642, 0.72734457, 0.74576271, 0.66905188],\n",
       "       [0.1686747 , 0.11485774, 0.34028683, 0.12601868],\n",
       "       [0.79141566, 0.6802226 , 0.36864407, 0.36466408],\n",
       "       [0.29254518, 0.32148973, 0.70974576, 0.29667313]])"
      ]
     },
     "execution_count": 46,
     "metadata": {},
     "output_type": "execute_result"
    }
   ],
   "source": [
    "k_fit.cluster_centers_"
   ]
  },
  {
   "cell_type": "code",
   "execution_count": 47,
   "id": "ec65c24f",
   "metadata": {
    "execution": {
     "iopub.execute_input": "2021-10-30T10:37:45.288681Z",
     "iopub.status.busy": "2021-10-30T10:37:45.288061Z",
     "iopub.status.idle": "2021-10-30T10:37:45.292106Z",
     "shell.execute_reply": "2021-10-30T10:37:45.291575Z",
     "shell.execute_reply.started": "2021-10-29T15:17:44.1105Z"
    },
    "papermill": {
     "duration": 0.031806,
     "end_time": "2021-10-30T10:37:45.292243",
     "exception": false,
     "start_time": "2021-10-30T10:37:45.260437",
     "status": "completed"
    },
    "tags": []
   },
   "outputs": [
    {
     "data": {
      "text/plain": [
       "array([2, 0, 0, 2, 0, 0, 3, 3, 0, 2, 3, 1, 0, 3, 1, 3, 1, 2, 1, 0, 3, 0,\n",
       "       1, 2, 0, 1, 1, 0, 1, 3, 0, 0, 2, 1, 3, 3, 3, 3, 3, 2, 1, 2, 0, 3,\n",
       "       1, 3, 3, 1, 1, 3])"
      ]
     },
     "execution_count": 47,
     "metadata": {},
     "output_type": "execute_result"
    }
   ],
   "source": [
    "k_fit.labels_"
   ]
  },
  {
   "cell_type": "code",
   "execution_count": 48,
   "id": "f268f10f",
   "metadata": {
    "execution": {
     "iopub.execute_input": "2021-10-30T10:37:45.338912Z",
     "iopub.status.busy": "2021-10-30T10:37:45.338273Z",
     "iopub.status.idle": "2021-10-30T10:37:45.341885Z",
     "shell.execute_reply": "2021-10-30T10:37:45.341303Z",
     "shell.execute_reply.started": "2021-10-29T15:17:44.124154Z"
    },
    "papermill": {
     "duration": 0.029139,
     "end_time": "2021-10-30T10:37:45.342018",
     "exception": false,
     "start_time": "2021-10-30T10:37:45.312879",
     "status": "completed"
    },
    "tags": []
   },
   "outputs": [
    {
     "data": {
      "text/plain": [
       "3.690820410392112"
      ]
     },
     "execution_count": 48,
     "metadata": {},
     "output_type": "execute_result"
    }
   ],
   "source": [
    "#total errors\n",
    "k_fit.inertia_"
   ]
  },
  {
   "cell_type": "code",
   "execution_count": 49,
   "id": "9cfdab7d",
   "metadata": {
    "execution": {
     "iopub.execute_input": "2021-10-30T10:37:45.389644Z",
     "iopub.status.busy": "2021-10-30T10:37:45.389038Z",
     "iopub.status.idle": "2021-10-30T10:37:45.392961Z",
     "shell.execute_reply": "2021-10-30T10:37:45.392409Z",
     "shell.execute_reply.started": "2021-10-29T15:17:44.136336Z"
    },
    "papermill": {
     "duration": 0.030459,
     "end_time": "2021-10-30T10:37:45.393086",
     "exception": false,
     "start_time": "2021-10-30T10:37:45.362627",
     "status": "completed"
    },
    "tags": []
   },
   "outputs": [
    {
     "data": {
      "text/plain": [
       "array([[0.74698795, 0.65410959, 0.44067797, 0.35917313],\n",
       "       [0.55421687, 0.74657534, 0.27118644, 0.96124031],\n",
       "       [0.43975904, 0.85273973, 0.81355932, 0.6124031 ],\n",
       "       [0.48192771, 0.49657534, 0.30508475, 0.31524548],\n",
       "       [0.4939759 , 0.79109589, 1.        , 0.86046512]])"
      ]
     },
     "execution_count": 49,
     "metadata": {},
     "output_type": "execute_result"
    }
   ],
   "source": [
    "df[0:5]"
   ]
  },
  {
   "cell_type": "markdown",
   "id": "c949a576",
   "metadata": {},
   "source": [
    "# Visualization of Clusters"
   ]
  },
  {
   "cell_type": "code",
   "execution_count": 50,
   "id": "650a5f7a",
   "metadata": {
    "execution": {
     "iopub.execute_input": "2021-10-30T10:37:45.482904Z",
     "iopub.status.busy": "2021-10-30T10:37:45.482312Z",
     "iopub.status.idle": "2021-10-30T10:37:45.711778Z",
     "shell.execute_reply": "2021-10-30T10:37:45.711228Z",
     "shell.execute_reply.started": "2021-10-29T15:17:44.151596Z"
    },
    "papermill": {
     "duration": 0.256638,
     "end_time": "2021-10-30T10:37:45.711974",
     "exception": false,
     "start_time": "2021-10-30T10:37:45.455336",
     "status": "completed"
    },
    "tags": []
   },
   "outputs": [
    {
     "data": {
      "image/png": "[encoded data removed]",
      "text/plain": [
       "<Figure size 576x396 with 1 Axes>"
      ]
     },
     "metadata": {},
     "output_type": "display_data"
    }
   ],
   "source": [
    "k_means = KMeans(n_clusters=2).fit(df)\n",
    "clusters = k_means.labels_\n",
    "type(df)\n",
    "df = pd.DataFrame(df)\n",
    "\n",
    "plt.scatter(df.iloc[:, 0],\n",
    "            df.iloc[:, 1],\n",
    "            c=kumeler,\n",
    "            s=50,\n",
    "            cmap=\"viridis\")\n",
    "plt.show()"
   ]
  },
  {
   "cell_type": "code",
   "execution_count": 51,
   "id": "45f1748e",
   "metadata": {
    "execution": {
     "iopub.execute_input": "2021-10-30T10:37:45.759634Z",
     "iopub.status.busy": "2021-10-30T10:37:45.759005Z",
     "iopub.status.idle": "2021-10-30T10:37:45.956519Z",
     "shell.execute_reply": "2021-10-30T10:37:45.955825Z",
     "shell.execute_reply.started": "2021-10-29T15:17:44.322629Z"
    },
    "papermill": {
     "duration": 0.222649,
     "end_time": "2021-10-30T10:37:45.956689",
     "exception": false,
     "start_time": "2021-10-30T10:37:45.734040",
     "status": "completed"
    },
    "tags": []
   },
   "outputs": [
    {
     "data": {
      "image/png": "[encoded data removed]",
      "text/plain": [
       "<Figure size 576x396 with 1 Axes>"
      ]
     },
     "metadata": {},
     "output_type": "display_data"
    }
   ],
   "source": [
    "# marking of centers\n",
    "centers = k_means.cluster_centers_\n",
    "\n",
    "plt.scatter(df.iloc[:, 0],\n",
    "            df.iloc[:, 1],\n",
    "            c=kumeler,\n",
    "            s=50,\n",
    "            cmap=\"viridis\")\n",
    "\n",
    "plt.scatter(merkezler[:, 0],\n",
    "            merkezler[:, 1],\n",
    "            c=\"red\",\n",
    "            s=200,\n",
    "            alpha=0.8)\n",
    "plt.show()"
   ]
  },
  {
   "cell_type": "code",
   "execution_count": 52,
   "id": "1d6c148b",
   "metadata": {
    "execution": {
     "iopub.execute_input": "2021-10-30T10:37:46.011638Z",
     "iopub.status.busy": "2021-10-30T10:37:46.010982Z",
     "iopub.status.idle": "2021-10-30T10:37:47.814562Z",
     "shell.execute_reply": "2021-10-30T10:37:47.815048Z",
     "shell.execute_reply.started": "2021-10-29T15:17:44.653192Z"
    },
    "papermill": {
     "duration": 1.835405,
     "end_time": "2021-10-30T10:37:47.815242",
     "exception": false,
     "start_time": "2021-10-30T10:37:45.979837",
     "status": "completed"
    },
    "tags": []
   },
   "outputs": [
    {
     "data": {
      "image/png": "[encoded data removed]",
      "text/plain": [
       "<Figure size 576x396 with 1 Axes>"
      ]
     },
     "metadata": {},
     "output_type": "display_data"
    }
   ],
   "source": [
    "#Determination of the Optimal Number of Clusters\n",
    "kmeans = KMeans()\n",
    "ssd = []\n",
    "K = range(1, 30)\n",
    "\n",
    "for k in K:\n",
    "    kmeans = KMeans(n_clusters=k).fit(df)\n",
    "    ssd.append(kmeans.inertia_)\n",
    "\n",
    "plt.plot(K, ssd, \"bx-\")\n",
    "plt.xlabel(\"Distance Residual Sums Against Different K Values\")\n",
    "plt.title(\"Elbow Method for Optimum Number of Clusters\")\n",
    "plt.show()\n"
   ]
  },
  {
   "cell_type": "code",
   "execution_count": 53,
   "id": "f4f22bb8",
   "metadata": {
    "execution": {
     "iopub.execute_input": "2021-10-30T10:37:47.872137Z",
     "iopub.status.busy": "2021-10-30T10:37:47.871155Z",
     "iopub.status.idle": "2021-10-30T10:37:49.210268Z",
     "shell.execute_reply": "2021-10-30T10:37:49.210706Z",
     "shell.execute_reply.started": "2021-10-29T15:17:46.847543Z"
    },
    "papermill": {
     "duration": 1.371743,
     "end_time": "2021-10-30T10:37:49.210916",
     "exception": false,
     "start_time": "2021-10-30T10:37:47.839173",
     "status": "completed"
    },
    "tags": []
   },
   "outputs": [
    {
     "data": {
      "image/png": "[encoded data removed]",
      "text/plain": [
       "<Figure size 576x396 with 2 Axes>"
      ]
     },
     "metadata": {},
     "output_type": "display_data"
    },
    {
     "data": {
      "text/plain": [
       "<AxesSubplot:title={'center':'Distortion Score Elbow for KMeans Clustering'}, xlabel='k', ylabel='distortion score'>"
      ]
     },
     "execution_count": 53,
     "metadata": {},
     "output_type": "execute_result"
    }
   ],
   "source": [
    "# A more practical way:\n",
    "kmeans = KMeans()\n",
    "elbow = KElbowVisualizer(kmeans, k=(2, 20))\n",
    "elbow.fit(df)\n",
    "elbow.show()"
   ]
  },
  {
   "cell_type": "code",
   "execution_count": 54,
   "id": "a4a1a2b7",
   "metadata": {
    "execution": {
     "iopub.execute_input": "2021-10-30T10:37:49.267670Z",
     "iopub.status.busy": "2021-10-30T10:37:49.266798Z",
     "iopub.status.idle": "2021-10-30T10:37:49.271079Z",
     "shell.execute_reply": "2021-10-30T10:37:49.270495Z",
     "shell.execute_reply.started": "2021-10-29T15:17:48.261902Z"
    },
    "papermill": {
     "duration": 0.034999,
     "end_time": "2021-10-30T10:37:49.271215",
     "exception": false,
     "start_time": "2021-10-30T10:37:49.236216",
     "status": "completed"
    },
    "tags": []
   },
   "outputs": [
    {
     "data": {
      "text/plain": [
       "5"
      ]
     },
     "execution_count": 54,
     "metadata": {},
     "output_type": "execute_result"
    }
   ],
   "source": [
    "elbow.elbow_value_"
   ]
  },
  {
   "cell_type": "markdown",
   "id": "c4d645ba",
   "metadata": {},
   "source": [
    "# Creation of Final Clusters"
   ]
  },
  {
   "cell_type": "code",
   "execution_count": 55,
   "id": "f0ffdd52",
   "metadata": {
    "execution": {
     "iopub.execute_input": "2021-10-30T10:37:49.381089Z",
     "iopub.status.busy": "2021-10-30T10:37:49.380144Z",
     "iopub.status.idle": "2021-10-30T10:37:49.411145Z",
     "shell.execute_reply": "2021-10-30T10:37:49.411619Z",
     "shell.execute_reply.started": "2021-10-29T15:17:48.270331Z"
    },
    "papermill": {
     "duration": 0.063671,
     "end_time": "2021-10-30T10:37:49.411792",
     "exception": false,
     "start_time": "2021-10-30T10:37:49.348121",
     "status": "completed"
    },
    "tags": []
   },
   "outputs": [],
   "source": [
    "kmeans = KMeans(n_clusters=elbow.elbow_value_).fit(df)\n",
    "clusters = kmeans.labels_"
   ]
  },
  {
   "cell_type": "code",
   "execution_count": 56,
   "id": "acb464f7",
   "metadata": {
    "execution": {
     "iopub.execute_input": "2021-10-30T10:37:49.469074Z",
     "iopub.status.busy": "2021-10-30T10:37:49.468139Z",
     "iopub.status.idle": "2021-10-30T10:37:49.473385Z",
     "shell.execute_reply": "2021-10-30T10:37:49.473906Z",
     "shell.execute_reply.started": "2021-10-29T15:17:48.323317Z"
    },
    "papermill": {
     "duration": 0.036765,
     "end_time": "2021-10-30T10:37:49.474074",
     "exception": false,
     "start_time": "2021-10-30T10:37:49.437309",
     "status": "completed"
    },
    "tags": []
   },
   "outputs": [],
   "source": [
    "df = pd.read_csv(\"USArrests.csv\", index_col=0)"
   ]
  },
  {
   "cell_type": "code",
   "execution_count": 57,
   "id": "68b57d9b",
   "metadata": {
    "execution": {
     "iopub.execute_input": "2021-10-30T10:37:49.528786Z",
     "iopub.status.busy": "2021-10-30T10:37:49.528214Z",
     "iopub.status.idle": "2021-10-30T10:37:49.540575Z",
     "shell.execute_reply": "2021-10-30T10:37:49.540135Z",
     "shell.execute_reply.started": "2021-10-29T15:17:48.334217Z"
    },
    "papermill": {
     "duration": 0.040732,
     "end_time": "2021-10-30T10:37:49.540713",
     "exception": false,
     "start_time": "2021-10-30T10:37:49.499981",
     "status": "completed"
    },
    "tags": []
   },
   "outputs": [
    {
     "data": {
      "text/html": [
       "<div>\n",
       "<style scoped>\n",
       "    .dataframe tbody tr th:only-of-type {\n",
       "        vertical-align: middle;\n",
       "    }\n",
       "\n",
       "    .dataframe tbody tr th {\n",
       "        vertical-align: top;\n",
       "    }\n",
       "\n",
       "    .dataframe thead th {\n",
       "        text-align: right;\n",
       "    }\n",
       "</style>\n",
       "<table border=\"1\" class=\"dataframe\">\n",
       "  <thead>\n",
       "    <tr style=\"text-align: right;\">\n",
       "      <th></th>\n",
       "      <th>States</th>\n",
       "      <th>Clusters</th>\n",
       "    </tr>\n",
       "  </thead>\n",
       "  <tbody>\n",
       "    <tr>\n",
       "      <th>0</th>\n",
       "      <td>Alabama</td>\n",
       "      <td>2</td>\n",
       "    </tr>\n",
       "    <tr>\n",
       "      <th>1</th>\n",
       "      <td>Alaska</td>\n",
       "      <td>1</td>\n",
       "    </tr>\n",
       "    <tr>\n",
       "      <th>2</th>\n",
       "      <td>Arizona</td>\n",
       "      <td>1</td>\n",
       "    </tr>\n",
       "    <tr>\n",
       "      <th>3</th>\n",
       "      <td>Arkansas</td>\n",
       "      <td>4</td>\n",
       "    </tr>\n",
       "    <tr>\n",
       "      <th>4</th>\n",
       "      <td>California</td>\n",
       "      <td>1</td>\n",
       "    </tr>\n",
       "    <tr>\n",
       "      <th>5</th>\n",
       "      <td>Colorado</td>\n",
       "      <td>1</td>\n",
       "    </tr>\n",
       "    <tr>\n",
       "      <th>6</th>\n",
       "      <td>Connecticut</td>\n",
       "      <td>0</td>\n",
       "    </tr>\n",
       "    <tr>\n",
       "      <th>7</th>\n",
       "      <td>Delaware</td>\n",
       "      <td>4</td>\n",
       "    </tr>\n",
       "    <tr>\n",
       "      <th>8</th>\n",
       "      <td>Florida</td>\n",
       "      <td>1</td>\n",
       "    </tr>\n",
       "    <tr>\n",
       "      <th>9</th>\n",
       "      <td>Georgia</td>\n",
       "      <td>2</td>\n",
       "    </tr>\n",
       "    <tr>\n",
       "      <th>10</th>\n",
       "      <td>Hawaii</td>\n",
       "      <td>0</td>\n",
       "    </tr>\n",
       "    <tr>\n",
       "      <th>11</th>\n",
       "      <td>Idaho</td>\n",
       "      <td>3</td>\n",
       "    </tr>\n",
       "    <tr>\n",
       "      <th>12</th>\n",
       "      <td>Illinois</td>\n",
       "      <td>1</td>\n",
       "    </tr>\n",
       "    <tr>\n",
       "      <th>13</th>\n",
       "      <td>Indiana</td>\n",
       "      <td>4</td>\n",
       "    </tr>\n",
       "    <tr>\n",
       "      <th>14</th>\n",
       "      <td>Iowa</td>\n",
       "      <td>3</td>\n",
       "    </tr>\n",
       "    <tr>\n",
       "      <th>15</th>\n",
       "      <td>Kansas</td>\n",
       "      <td>4</td>\n",
       "    </tr>\n",
       "    <tr>\n",
       "      <th>16</th>\n",
       "      <td>Kentucky</td>\n",
       "      <td>4</td>\n",
       "    </tr>\n",
       "    <tr>\n",
       "      <th>17</th>\n",
       "      <td>Louisiana</td>\n",
       "      <td>2</td>\n",
       "    </tr>\n",
       "    <tr>\n",
       "      <th>18</th>\n",
       "      <td>Maine</td>\n",
       "      <td>3</td>\n",
       "    </tr>\n",
       "    <tr>\n",
       "      <th>19</th>\n",
       "      <td>Maryland</td>\n",
       "      <td>1</td>\n",
       "    </tr>\n",
       "    <tr>\n",
       "      <th>20</th>\n",
       "      <td>Massachusetts</td>\n",
       "      <td>0</td>\n",
       "    </tr>\n",
       "    <tr>\n",
       "      <th>21</th>\n",
       "      <td>Michigan</td>\n",
       "      <td>1</td>\n",
       "    </tr>\n",
       "    <tr>\n",
       "      <th>22</th>\n",
       "      <td>Minnesota</td>\n",
       "      <td>3</td>\n",
       "    </tr>\n",
       "    <tr>\n",
       "      <th>23</th>\n",
       "      <td>Mississippi</td>\n",
       "      <td>2</td>\n",
       "    </tr>\n",
       "    <tr>\n",
       "      <th>24</th>\n",
       "      <td>Missouri</td>\n",
       "      <td>4</td>\n",
       "    </tr>\n",
       "    <tr>\n",
       "      <th>25</th>\n",
       "      <td>Montana</td>\n",
       "      <td>3</td>\n",
       "    </tr>\n",
       "    <tr>\n",
       "      <th>26</th>\n",
       "      <td>Nebraska</td>\n",
       "      <td>3</td>\n",
       "    </tr>\n",
       "    <tr>\n",
       "      <th>27</th>\n",
       "      <td>Nevada</td>\n",
       "      <td>1</td>\n",
       "    </tr>\n",
       "    <tr>\n",
       "      <th>28</th>\n",
       "      <td>New Hampshire</td>\n",
       "      <td>3</td>\n",
       "    </tr>\n",
       "    <tr>\n",
       "      <th>29</th>\n",
       "      <td>New Jersey</td>\n",
       "      <td>0</td>\n",
       "    </tr>\n",
       "    <tr>\n",
       "      <th>30</th>\n",
       "      <td>New Mexico</td>\n",
       "      <td>1</td>\n",
       "    </tr>\n",
       "    <tr>\n",
       "      <th>31</th>\n",
       "      <td>New York</td>\n",
       "      <td>1</td>\n",
       "    </tr>\n",
       "    <tr>\n",
       "      <th>32</th>\n",
       "      <td>North Carolina</td>\n",
       "      <td>2</td>\n",
       "    </tr>\n",
       "    <tr>\n",
       "      <th>33</th>\n",
       "      <td>North Dakota</td>\n",
       "      <td>3</td>\n",
       "    </tr>\n",
       "    <tr>\n",
       "      <th>34</th>\n",
       "      <td>Ohio</td>\n",
       "      <td>0</td>\n",
       "    </tr>\n",
       "    <tr>\n",
       "      <th>35</th>\n",
       "      <td>Oklahoma</td>\n",
       "      <td>4</td>\n",
       "    </tr>\n",
       "    <tr>\n",
       "      <th>36</th>\n",
       "      <td>Oregon</td>\n",
       "      <td>4</td>\n",
       "    </tr>\n",
       "    <tr>\n",
       "      <th>37</th>\n",
       "      <td>Pennsylvania</td>\n",
       "      <td>0</td>\n",
       "    </tr>\n",
       "    <tr>\n",
       "      <th>38</th>\n",
       "      <td>Rhode Island</td>\n",
       "      <td>0</td>\n",
       "    </tr>\n",
       "    <tr>\n",
       "      <th>39</th>\n",
       "      <td>South Carolina</td>\n",
       "      <td>2</td>\n",
       "    </tr>\n",
       "    <tr>\n",
       "      <th>40</th>\n",
       "      <td>South Dakota</td>\n",
       "      <td>3</td>\n",
       "    </tr>\n",
       "    <tr>\n",
       "      <th>41</th>\n",
       "      <td>Tennessee</td>\n",
       "      <td>2</td>\n",
       "    </tr>\n",
       "    <tr>\n",
       "      <th>42</th>\n",
       "      <td>Texas</td>\n",
       "      <td>1</td>\n",
       "    </tr>\n",
       "    <tr>\n",
       "      <th>43</th>\n",
       "      <td>Utah</td>\n",
       "      <td>0</td>\n",
       "    </tr>\n",
       "    <tr>\n",
       "      <th>44</th>\n",
       "      <td>Vermont</td>\n",
       "      <td>3</td>\n",
       "    </tr>\n",
       "    <tr>\n",
       "      <th>45</th>\n",
       "      <td>Virginia</td>\n",
       "      <td>4</td>\n",
       "    </tr>\n",
       "    <tr>\n",
       "      <th>46</th>\n",
       "      <td>Washington</td>\n",
       "      <td>0</td>\n",
       "    </tr>\n",
       "    <tr>\n",
       "      <th>47</th>\n",
       "      <td>West Virginia</td>\n",
       "      <td>3</td>\n",
       "    </tr>\n",
       "    <tr>\n",
       "      <th>48</th>\n",
       "      <td>Wisconsin</td>\n",
       "      <td>3</td>\n",
       "    </tr>\n",
       "    <tr>\n",
       "      <th>49</th>\n",
       "      <td>Wyoming</td>\n",
       "      <td>4</td>\n",
       "    </tr>\n",
       "  </tbody>\n",
       "</table>\n",
       "</div>"
      ],
      "text/plain": [
       "            States  Clusters\n",
       "0          Alabama         2\n",
       "1           Alaska         1\n",
       "2          Arizona         1\n",
       "3         Arkansas         4\n",
       "4       California         1\n",
       "5         Colorado         1\n",
       "6      Connecticut         0\n",
       "7         Delaware         4\n",
       "8          Florida         1\n",
       "9          Georgia         2\n",
       "10          Hawaii         0\n",
       "11           Idaho         3\n",
       "12        Illinois         1\n",
       "13         Indiana         4\n",
       "14            Iowa         3\n",
       "15          Kansas         4\n",
       "16        Kentucky         4\n",
       "17       Louisiana         2\n",
       "18           Maine         3\n",
       "19        Maryland         1\n",
       "20   Massachusetts         0\n",
       "21        Michigan         1\n",
       "22       Minnesota         3\n",
       "23     Mississippi         2\n",
       "24        Missouri         4\n",
       "25         Montana         3\n",
       "26        Nebraska         3\n",
       "27          Nevada         1\n",
       "28   New Hampshire         3\n",
       "29      New Jersey         0\n",
       "30      New Mexico         1\n",
       "31        New York         1\n",
       "32  North Carolina         2\n",
       "33    North Dakota         3\n",
       "34            Ohio         0\n",
       "35        Oklahoma         4\n",
       "36          Oregon         4\n",
       "37    Pennsylvania         0\n",
       "38    Rhode Island         0\n",
       "39  South Carolina         2\n",
       "40    South Dakota         3\n",
       "41       Tennessee         2\n",
       "42           Texas         1\n",
       "43            Utah         0\n",
       "44         Vermont         3\n",
       "45        Virginia         4\n",
       "46      Washington         0\n",
       "47   West Virginia         3\n",
       "48       Wisconsin         3\n",
       "49         Wyoming         4"
      ]
     },
     "execution_count": 57,
     "metadata": {},
     "output_type": "execute_result"
    }
   ],
   "source": [
    "pd.DataFrame({\"States\": df.index, \"Clusters\": clusters})"
   ]
  },
  {
   "cell_type": "code",
   "execution_count": 63,
   "id": "cc02b62a",
   "metadata": {
    "execution": {
     "iopub.execute_input": "2021-10-30T10:37:49.596632Z",
     "iopub.status.busy": "2021-10-30T10:37:49.596070Z",
     "iopub.status.idle": "2021-10-30T10:37:49.607472Z",
     "shell.execute_reply": "2021-10-30T10:37:49.607889Z",
     "shell.execute_reply.started": "2021-10-29T15:17:48.355179Z"
    },
    "papermill": {
     "duration": 0.041208,
     "end_time": "2021-10-30T10:37:49.608054",
     "exception": false,
     "start_time": "2021-10-30T10:37:49.566846",
     "status": "completed"
    },
    "tags": []
   },
   "outputs": [
    {
     "data": {
      "text/html": [
       "<div>\n",
       "<style scoped>\n",
       "    .dataframe tbody tr th:only-of-type {\n",
       "        vertical-align: middle;\n",
       "    }\n",
       "\n",
       "    .dataframe tbody tr th {\n",
       "        vertical-align: top;\n",
       "    }\n",
       "\n",
       "    .dataframe thead th {\n",
       "        text-align: right;\n",
       "    }\n",
       "</style>\n",
       "<table border=\"1\" class=\"dataframe\">\n",
       "  <thead>\n",
       "    <tr style=\"text-align: right;\">\n",
       "      <th></th>\n",
       "      <th>Murder</th>\n",
       "      <th>Assault</th>\n",
       "      <th>UrbanPop</th>\n",
       "      <th>Rape</th>\n",
       "      <th>cluster_no</th>\n",
       "    </tr>\n",
       "  </thead>\n",
       "  <tbody>\n",
       "    <tr>\n",
       "      <th>Alabama</th>\n",
       "      <td>13.2</td>\n",
       "      <td>236</td>\n",
       "      <td>58</td>\n",
       "      <td>21.2</td>\n",
       "      <td>3</td>\n",
       "    </tr>\n",
       "    <tr>\n",
       "      <th>Alaska</th>\n",
       "      <td>10.0</td>\n",
       "      <td>263</td>\n",
       "      <td>48</td>\n",
       "      <td>44.5</td>\n",
       "      <td>2</td>\n",
       "    </tr>\n",
       "    <tr>\n",
       "      <th>Arizona</th>\n",
       "      <td>8.1</td>\n",
       "      <td>294</td>\n",
       "      <td>80</td>\n",
       "      <td>31.0</td>\n",
       "      <td>2</td>\n",
       "    </tr>\n",
       "    <tr>\n",
       "      <th>Arkansas</th>\n",
       "      <td>8.8</td>\n",
       "      <td>190</td>\n",
       "      <td>50</td>\n",
       "      <td>19.5</td>\n",
       "      <td>5</td>\n",
       "    </tr>\n",
       "    <tr>\n",
       "      <th>California</th>\n",
       "      <td>9.0</td>\n",
       "      <td>276</td>\n",
       "      <td>91</td>\n",
       "      <td>40.6</td>\n",
       "      <td>2</td>\n",
       "    </tr>\n",
       "  </tbody>\n",
       "</table>\n",
       "</div>"
      ],
      "text/plain": [
       "            Murder  Assault  UrbanPop  Rape  cluster_no\n",
       "Alabama       13.2      236        58  21.2           3\n",
       "Alaska        10.0      263        48  44.5           2\n",
       "Arizona        8.1      294        80  31.0           2\n",
       "Arkansas       8.8      190        50  19.5           5\n",
       "California     9.0      276        91  40.6           2"
      ]
     },
     "execution_count": 63,
     "metadata": {},
     "output_type": "execute_result"
    }
   ],
   "source": [
    "df[\"cluster_no\"] = clusters\n",
    "df[\"cluster_no\"] = df[\"cluster_no\"] + 1\n",
    "\n",
    "df.head()"
   ]
  },
  {
   "cell_type": "code",
   "execution_count": 64,
   "id": "58b3f763",
   "metadata": {
    "execution": {
     "iopub.execute_input": "2021-10-30T10:37:49.664352Z",
     "iopub.status.busy": "2021-10-30T10:37:49.663752Z",
     "iopub.status.idle": "2021-10-30T10:37:49.673624Z",
     "shell.execute_reply": "2021-10-30T10:37:49.674100Z",
     "shell.execute_reply.started": "2021-10-29T15:17:48.37132Z"
    },
    "papermill": {
     "duration": 0.039941,
     "end_time": "2021-10-30T10:37:49.674261",
     "exception": false,
     "start_time": "2021-10-30T10:37:49.634320",
     "status": "completed"
    },
    "tags": []
   },
   "outputs": [
    {
     "data": {
      "text/html": [
       "<div>\n",
       "<style scoped>\n",
       "    .dataframe tbody tr th:only-of-type {\n",
       "        vertical-align: middle;\n",
       "    }\n",
       "\n",
       "    .dataframe tbody tr th {\n",
       "        vertical-align: top;\n",
       "    }\n",
       "\n",
       "    .dataframe thead th {\n",
       "        text-align: right;\n",
       "    }\n",
       "</style>\n",
       "<table border=\"1\" class=\"dataframe\">\n",
       "  <thead>\n",
       "    <tr style=\"text-align: right;\">\n",
       "      <th></th>\n",
       "      <th>cluster_no</th>\n",
       "    </tr>\n",
       "    <tr>\n",
       "      <th>cluster_no</th>\n",
       "      <th></th>\n",
       "    </tr>\n",
       "  </thead>\n",
       "  <tbody>\n",
       "    <tr>\n",
       "      <th>1</th>\n",
       "      <td>9</td>\n",
       "    </tr>\n",
       "    <tr>\n",
       "      <th>2</th>\n",
       "      <td>12</td>\n",
       "    </tr>\n",
       "    <tr>\n",
       "      <th>3</th>\n",
       "      <td>7</td>\n",
       "    </tr>\n",
       "    <tr>\n",
       "      <th>4</th>\n",
       "      <td>12</td>\n",
       "    </tr>\n",
       "    <tr>\n",
       "      <th>5</th>\n",
       "      <td>10</td>\n",
       "    </tr>\n",
       "  </tbody>\n",
       "</table>\n",
       "</div>"
      ],
      "text/plain": [
       "            cluster_no\n",
       "cluster_no            \n",
       "1                    9\n",
       "2                   12\n",
       "3                    7\n",
       "4                   12\n",
       "5                   10"
      ]
     },
     "execution_count": 64,
     "metadata": {},
     "output_type": "execute_result"
    }
   ],
   "source": [
    "df.groupby(\"cluster_no\").agg({\"cluster_no\": \"count\"})"
   ]
  },
  {
   "cell_type": "code",
   "execution_count": 65,
   "id": "b41aaee7",
   "metadata": {
    "execution": {
     "iopub.execute_input": "2021-10-30T10:37:49.731680Z",
     "iopub.status.busy": "2021-10-30T10:37:49.731038Z",
     "iopub.status.idle": "2021-10-30T10:37:49.744363Z",
     "shell.execute_reply": "2021-10-30T10:37:49.744853Z",
     "shell.execute_reply.started": "2021-10-29T15:17:48.391455Z"
    },
    "papermill": {
     "duration": 0.044026,
     "end_time": "2021-10-30T10:37:49.745024",
     "exception": false,
     "start_time": "2021-10-30T10:37:49.700998",
     "status": "completed"
    },
    "tags": []
   },
   "outputs": [
    {
     "data": {
      "text/html": [
       "<div>\n",
       "<style scoped>\n",
       "    .dataframe tbody tr th:only-of-type {\n",
       "        vertical-align: middle;\n",
       "    }\n",
       "\n",
       "    .dataframe tbody tr th {\n",
       "        vertical-align: top;\n",
       "    }\n",
       "\n",
       "    .dataframe thead th {\n",
       "        text-align: right;\n",
       "    }\n",
       "</style>\n",
       "<table border=\"1\" class=\"dataframe\">\n",
       "  <thead>\n",
       "    <tr style=\"text-align: right;\">\n",
       "      <th></th>\n",
       "      <th>Murder</th>\n",
       "      <th>Assault</th>\n",
       "      <th>UrbanPop</th>\n",
       "      <th>Rape</th>\n",
       "    </tr>\n",
       "    <tr>\n",
       "      <th>cluster_no</th>\n",
       "      <th></th>\n",
       "      <th></th>\n",
       "      <th></th>\n",
       "      <th></th>\n",
       "    </tr>\n",
       "  </thead>\n",
       "  <tbody>\n",
       "    <tr>\n",
       "      <th>1</th>\n",
       "      <td>4.955556</td>\n",
       "      <td>125.444444</td>\n",
       "      <td>80.111111</td>\n",
       "      <td>17.788889</td>\n",
       "    </tr>\n",
       "    <tr>\n",
       "      <th>2</th>\n",
       "      <td>10.966667</td>\n",
       "      <td>264.000000</td>\n",
       "      <td>76.500000</td>\n",
       "      <td>33.608333</td>\n",
       "    </tr>\n",
       "    <tr>\n",
       "      <th>3</th>\n",
       "      <td>14.671429</td>\n",
       "      <td>251.285714</td>\n",
       "      <td>54.285714</td>\n",
       "      <td>21.685714</td>\n",
       "    </tr>\n",
       "    <tr>\n",
       "      <th>4</th>\n",
       "      <td>3.091667</td>\n",
       "      <td>76.000000</td>\n",
       "      <td>52.083333</td>\n",
       "      <td>11.833333</td>\n",
       "    </tr>\n",
       "    <tr>\n",
       "      <th>5</th>\n",
       "      <td>7.340000</td>\n",
       "      <td>157.000000</td>\n",
       "      <td>63.300000</td>\n",
       "      <td>20.440000</td>\n",
       "    </tr>\n",
       "  </tbody>\n",
       "</table>\n",
       "</div>"
      ],
      "text/plain": [
       "               Murder     Assault   UrbanPop       Rape\n",
       "cluster_no                                             \n",
       "1            4.955556  125.444444  80.111111  17.788889\n",
       "2           10.966667  264.000000  76.500000  33.608333\n",
       "3           14.671429  251.285714  54.285714  21.685714\n",
       "4            3.091667   76.000000  52.083333  11.833333\n",
       "5            7.340000  157.000000  63.300000  20.440000"
      ]
     },
     "execution_count": 65,
     "metadata": {},
     "output_type": "execute_result"
    }
   ],
   "source": [
    "df.groupby(\"cluster_no\").agg(np.mean)"
   ]
  },
  {
   "cell_type": "code",
   "execution_count": 66,
   "id": "04c06c34",
   "metadata": {
    "execution": {
     "iopub.execute_input": "2021-10-30T10:37:49.802772Z",
     "iopub.status.busy": "2021-10-30T10:37:49.802204Z",
     "iopub.status.idle": "2021-10-30T10:37:49.816164Z",
     "shell.execute_reply": "2021-10-30T10:37:49.816610Z",
     "shell.execute_reply.started": "2021-10-29T15:17:48.410996Z"
    },
    "papermill": {
     "duration": 0.044799,
     "end_time": "2021-10-30T10:37:49.816770",
     "exception": false,
     "start_time": "2021-10-30T10:37:49.771971",
     "status": "completed"
    },
    "tags": []
   },
   "outputs": [
    {
     "data": {
      "text/html": [
       "<div>\n",
       "<style scoped>\n",
       "    .dataframe tbody tr th:only-of-type {\n",
       "        vertical-align: middle;\n",
       "    }\n",
       "\n",
       "    .dataframe tbody tr th {\n",
       "        vertical-align: top;\n",
       "    }\n",
       "\n",
       "    .dataframe thead th {\n",
       "        text-align: right;\n",
       "    }\n",
       "</style>\n",
       "<table border=\"1\" class=\"dataframe\">\n",
       "  <thead>\n",
       "    <tr style=\"text-align: right;\">\n",
       "      <th></th>\n",
       "      <th>Murder</th>\n",
       "      <th>Assault</th>\n",
       "      <th>UrbanPop</th>\n",
       "      <th>Rape</th>\n",
       "      <th>cluster_no</th>\n",
       "    </tr>\n",
       "  </thead>\n",
       "  <tbody>\n",
       "    <tr>\n",
       "      <th>Arkansas</th>\n",
       "      <td>8.8</td>\n",
       "      <td>190</td>\n",
       "      <td>50</td>\n",
       "      <td>19.5</td>\n",
       "      <td>5</td>\n",
       "    </tr>\n",
       "    <tr>\n",
       "      <th>Delaware</th>\n",
       "      <td>5.9</td>\n",
       "      <td>238</td>\n",
       "      <td>72</td>\n",
       "      <td>15.8</td>\n",
       "      <td>5</td>\n",
       "    </tr>\n",
       "    <tr>\n",
       "      <th>Indiana</th>\n",
       "      <td>7.2</td>\n",
       "      <td>113</td>\n",
       "      <td>65</td>\n",
       "      <td>21.0</td>\n",
       "      <td>5</td>\n",
       "    </tr>\n",
       "    <tr>\n",
       "      <th>Kansas</th>\n",
       "      <td>6.0</td>\n",
       "      <td>115</td>\n",
       "      <td>66</td>\n",
       "      <td>18.0</td>\n",
       "      <td>5</td>\n",
       "    </tr>\n",
       "    <tr>\n",
       "      <th>Kentucky</th>\n",
       "      <td>9.7</td>\n",
       "      <td>109</td>\n",
       "      <td>52</td>\n",
       "      <td>16.3</td>\n",
       "      <td>5</td>\n",
       "    </tr>\n",
       "    <tr>\n",
       "      <th>Missouri</th>\n",
       "      <td>9.0</td>\n",
       "      <td>178</td>\n",
       "      <td>70</td>\n",
       "      <td>28.2</td>\n",
       "      <td>5</td>\n",
       "    </tr>\n",
       "    <tr>\n",
       "      <th>Oklahoma</th>\n",
       "      <td>6.6</td>\n",
       "      <td>151</td>\n",
       "      <td>68</td>\n",
       "      <td>20.0</td>\n",
       "      <td>5</td>\n",
       "    </tr>\n",
       "    <tr>\n",
       "      <th>Oregon</th>\n",
       "      <td>4.9</td>\n",
       "      <td>159</td>\n",
       "      <td>67</td>\n",
       "      <td>29.3</td>\n",
       "      <td>5</td>\n",
       "    </tr>\n",
       "    <tr>\n",
       "      <th>Virginia</th>\n",
       "      <td>8.5</td>\n",
       "      <td>156</td>\n",
       "      <td>63</td>\n",
       "      <td>20.7</td>\n",
       "      <td>5</td>\n",
       "    </tr>\n",
       "    <tr>\n",
       "      <th>Wyoming</th>\n",
       "      <td>6.8</td>\n",
       "      <td>161</td>\n",
       "      <td>60</td>\n",
       "      <td>15.6</td>\n",
       "      <td>5</td>\n",
       "    </tr>\n",
       "  </tbody>\n",
       "</table>\n",
       "</div>"
      ],
      "text/plain": [
       "          Murder  Assault  UrbanPop  Rape  cluster_no\n",
       "Arkansas     8.8      190        50  19.5           5\n",
       "Delaware     5.9      238        72  15.8           5\n",
       "Indiana      7.2      113        65  21.0           5\n",
       "Kansas       6.0      115        66  18.0           5\n",
       "Kentucky     9.7      109        52  16.3           5\n",
       "Missouri     9.0      178        70  28.2           5\n",
       "Oklahoma     6.6      151        68  20.0           5\n",
       "Oregon       4.9      159        67  29.3           5\n",
       "Virginia     8.5      156        63  20.7           5\n",
       "Wyoming      6.8      161        60  15.6           5"
      ]
     },
     "execution_count": 66,
     "metadata": {},
     "output_type": "execute_result"
    }
   ],
   "source": [
    "df[df[\"cluster_no\"] == 5]"
   ]
  },
  {
   "cell_type": "code",
   "execution_count": 67,
   "id": "e033f2fa",
   "metadata": {
    "execution": {
     "iopub.execute_input": "2021-10-30T10:37:49.875108Z",
     "iopub.status.busy": "2021-10-30T10:37:49.874460Z",
     "iopub.status.idle": "2021-10-30T10:37:49.884098Z",
     "shell.execute_reply": "2021-10-30T10:37:49.884554Z",
     "shell.execute_reply.started": "2021-10-29T15:17:48.427232Z"
    },
    "papermill": {
     "duration": 0.040619,
     "end_time": "2021-10-30T10:37:49.884711",
     "exception": false,
     "start_time": "2021-10-30T10:37:49.844092",
     "status": "completed"
    },
    "tags": []
   },
   "outputs": [
    {
     "data": {
      "text/html": [
       "<div>\n",
       "<style scoped>\n",
       "    .dataframe tbody tr th:only-of-type {\n",
       "        vertical-align: middle;\n",
       "    }\n",
       "\n",
       "    .dataframe tbody tr th {\n",
       "        vertical-align: top;\n",
       "    }\n",
       "\n",
       "    .dataframe thead th {\n",
       "        text-align: right;\n",
       "    }\n",
       "</style>\n",
       "<table border=\"1\" class=\"dataframe\">\n",
       "  <thead>\n",
       "    <tr style=\"text-align: right;\">\n",
       "      <th></th>\n",
       "      <th>Murder</th>\n",
       "      <th>Assault</th>\n",
       "      <th>UrbanPop</th>\n",
       "      <th>Rape</th>\n",
       "      <th>cluster_no</th>\n",
       "    </tr>\n",
       "  </thead>\n",
       "  <tbody>\n",
       "  </tbody>\n",
       "</table>\n",
       "</div>"
      ],
      "text/plain": [
       "Empty DataFrame\n",
       "Columns: [Murder, Assault, UrbanPop, Rape, cluster_no]\n",
       "Index: []"
      ]
     },
     "execution_count": 67,
     "metadata": {},
     "output_type": "execute_result"
    }
   ],
   "source": [
    "df[df[\"cluster_no\"] == 6]"
   ]
  },
  {
   "cell_type": "code",
   "execution_count": null,
   "id": "41ee2000",
   "metadata": {},
   "outputs": [],
   "source": []
  }
 ],
 "metadata": {
  "kernelspec": {
   "display_name": "Python 3 (ipykernel)",
   "language": "python",
   "name": "python3"
  },
  "language_info": {
   "codemirror_mode": {
    "name": "ipython",
    "version": 3
   },
   "file_extension": ".py",
   "mimetype": "text/x-python",
   "name": "python",
   "nbconvert_exporter": "python",
   "pygments_lexer": "ipython3",
   "version": "3.9.5"
  },
  "papermill": {
   "default_parameters": {},
   "duration": 16.010401,
   "end_time": "2021-10-30T10:37:50.979769",
   "environment_variables": {},
   "exception": null,
   "input_path": "__notebook__.ipynb",
   "output_path": "__notebook__.ipynb",
   "parameters": {},
   "start_time": "2021-10-30T10:37:34.969368",
   "version": "2.3.3"
  }
 },
 "nbformat": 4,
 "nbformat_minor": 5
}
